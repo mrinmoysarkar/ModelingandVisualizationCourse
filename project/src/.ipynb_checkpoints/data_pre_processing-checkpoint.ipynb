{
 "cells": [
  {
   "cell_type": "code",
   "execution_count": 4,
   "metadata": {},
   "outputs": [],
   "source": [
    "import pandas as pd\n",
    "import numpy as np\n",
    "import matplotlib.pyplot as plt\n",
    "from sklearn.model_selection import train_test_split"
   ]
  },
  {
   "cell_type": "code",
   "execution_count": 5,
   "metadata": {},
   "outputs": [],
   "source": [
    "def add_placeId(sens,timestamp_ID):\n",
    "    placeid = []\n",
    "    for i in range(sens.shape[0]):\n",
    "        time_id = sens[\"timestamp\"][i]\n",
    "        flag = True\n",
    "        for j in range(timestamp_ID.shape[0]):\n",
    "            if time_id>=timestamp_ID.loc[j].timestamp1 and time_id<=timestamp_ID.loc[j].timestamp2:\n",
    "                placeid.append(timestamp_ID.loc[j].placeID)\n",
    "                flag = False\n",
    "                break\n",
    "        if flag:\n",
    "            placeid.append(-1)\n",
    "    return placeid"
   ]
  },
  {
   "cell_type": "code",
   "execution_count": 6,
   "metadata": {},
   "outputs": [],
   "source": [
    "points_map = pd.read_excel(\"../data/PointsMapping.xlsx\",index_col=\"placeID\")\n",
    "col_names = [\"placeID\"]+[\"x\"+str(i) for i in range(127)]\n",
    "wifi_data1 = pd.read_csv(\"../data/measure1_smartphone_wifi.csv\",names=col_names)\n",
    "sens_phone1 = pd.read_csv(\"../data/measure1_smartphone_sens.csv\")\n",
    "sens_watch1 = pd.read_csv(\"../data/measure1_smartwatch_sens.csv\")\n",
    "timestamp_id1 = pd.read_csv(\"../data/measure1_timestamp_id.csv\")\n",
    "\n",
    "wifi_data2 = pd.read_csv(\"../data/measure2_smartphone_wifi.csv\",names=col_names)\n",
    "sens_phone2 = pd.read_csv(\"../data/measure2_smartphone_sens.csv\")\n",
    "sens_watch2 = pd.read_csv(\"../data/measure2_smartwatch_sens.csv\")\n",
    "timestamp_id2 = pd.read_csv(\"../data/measure2_timestamp_id.csv\")"
   ]
  },
  {
   "cell_type": "code",
   "execution_count": 7,
   "metadata": {},
   "outputs": [
    {
     "ename": "ValueError",
     "evalue": "Length of values does not match length of index",
     "output_type": "error",
     "traceback": [
      "\u001b[0;31m---------------------------------------------------------------------------\u001b[0m",
      "\u001b[0;31mValueError\u001b[0m                                Traceback (most recent call last)",
      "\u001b[0;32m<ipython-input-7-3c8afbaf5418>\u001b[0m in \u001b[0;36m<module>\u001b[0;34m()\u001b[0m\n\u001b[1;32m      7\u001b[0m \u001b[0mwifi_data\u001b[0m\u001b[0;34m.\u001b[0m\u001b[0mto_csv\u001b[0m\u001b[0;34m(\u001b[0m\u001b[0mpath_or_buf\u001b[0m\u001b[0;34m=\u001b[0m\u001b[0;34m\"../data/wifi_data.csv\"\u001b[0m\u001b[0;34m)\u001b[0m\u001b[0;34m\u001b[0m\u001b[0m\n\u001b[1;32m      8\u001b[0m \u001b[0;34m\u001b[0m\u001b[0m\n\u001b[0;32m----> 9\u001b[0;31m \u001b[0msens_phone1\u001b[0m\u001b[0;34m[\u001b[0m\u001b[0;34m\"placeID\"\u001b[0m\u001b[0;34m]\u001b[0m \u001b[0;34m=\u001b[0m \u001b[0madd_placeId\u001b[0m\u001b[0;34m(\u001b[0m\u001b[0msens_phone1\u001b[0m\u001b[0;34m,\u001b[0m\u001b[0mtimestamp_id1\u001b[0m\u001b[0;34m)\u001b[0m\u001b[0;34m\u001b[0m\u001b[0m\n\u001b[0m\u001b[1;32m     10\u001b[0m \u001b[0mx_pos\u001b[0m \u001b[0;34m=\u001b[0m \u001b[0;34m[\u001b[0m\u001b[0mpoints_map\u001b[0m\u001b[0;34m.\u001b[0m\u001b[0mloc\u001b[0m\u001b[0;34m[\u001b[0m\u001b[0mloc_id\u001b[0m\u001b[0;34m+\u001b[0m\u001b[0;36m1\u001b[0m\u001b[0;34m]\u001b[0m\u001b[0;34m.\u001b[0m\u001b[0mX\u001b[0m \u001b[0;32mfor\u001b[0m \u001b[0mloc_id\u001b[0m \u001b[0;32min\u001b[0m \u001b[0msens_phone1\u001b[0m\u001b[0;34m[\u001b[0m\u001b[0;34m\"placeID\"\u001b[0m\u001b[0;34m]\u001b[0m\u001b[0;34m]\u001b[0m\u001b[0;34m\u001b[0m\u001b[0m\n\u001b[1;32m     11\u001b[0m \u001b[0my_pos\u001b[0m \u001b[0;34m=\u001b[0m \u001b[0;34m[\u001b[0m\u001b[0mpoints_map\u001b[0m\u001b[0;34m.\u001b[0m\u001b[0mloc\u001b[0m\u001b[0;34m[\u001b[0m\u001b[0mloc_id\u001b[0m\u001b[0;34m+\u001b[0m\u001b[0;36m1\u001b[0m\u001b[0;34m]\u001b[0m\u001b[0;34m.\u001b[0m\u001b[0mY\u001b[0m \u001b[0;32mfor\u001b[0m \u001b[0mloc_id\u001b[0m \u001b[0;32min\u001b[0m \u001b[0msens_phone1\u001b[0m\u001b[0;34m[\u001b[0m\u001b[0;34m\"placeID\"\u001b[0m\u001b[0;34m]\u001b[0m\u001b[0;34m]\u001b[0m\u001b[0;34m\u001b[0m\u001b[0m\n",
      "\u001b[0;32m~/miniconda3/lib/python3.5/site-packages/pandas/core/frame.py\u001b[0m in \u001b[0;36m__setitem__\u001b[0;34m(self, key, value)\u001b[0m\n\u001b[1;32m   3117\u001b[0m         \u001b[0;32melse\u001b[0m\u001b[0;34m:\u001b[0m\u001b[0;34m\u001b[0m\u001b[0m\n\u001b[1;32m   3118\u001b[0m             \u001b[0;31m# set column\u001b[0m\u001b[0;34m\u001b[0m\u001b[0;34m\u001b[0m\u001b[0m\n\u001b[0;32m-> 3119\u001b[0;31m             \u001b[0mself\u001b[0m\u001b[0;34m.\u001b[0m\u001b[0m_set_item\u001b[0m\u001b[0;34m(\u001b[0m\u001b[0mkey\u001b[0m\u001b[0;34m,\u001b[0m \u001b[0mvalue\u001b[0m\u001b[0;34m)\u001b[0m\u001b[0;34m\u001b[0m\u001b[0m\n\u001b[0m\u001b[1;32m   3120\u001b[0m \u001b[0;34m\u001b[0m\u001b[0m\n\u001b[1;32m   3121\u001b[0m     \u001b[0;32mdef\u001b[0m \u001b[0m_setitem_slice\u001b[0m\u001b[0;34m(\u001b[0m\u001b[0mself\u001b[0m\u001b[0;34m,\u001b[0m \u001b[0mkey\u001b[0m\u001b[0;34m,\u001b[0m \u001b[0mvalue\u001b[0m\u001b[0;34m)\u001b[0m\u001b[0;34m:\u001b[0m\u001b[0;34m\u001b[0m\u001b[0m\n",
      "\u001b[0;32m~/miniconda3/lib/python3.5/site-packages/pandas/core/frame.py\u001b[0m in \u001b[0;36m_set_item\u001b[0;34m(self, key, value)\u001b[0m\n\u001b[1;32m   3192\u001b[0m \u001b[0;34m\u001b[0m\u001b[0m\n\u001b[1;32m   3193\u001b[0m         \u001b[0mself\u001b[0m\u001b[0;34m.\u001b[0m\u001b[0m_ensure_valid_index\u001b[0m\u001b[0;34m(\u001b[0m\u001b[0mvalue\u001b[0m\u001b[0;34m)\u001b[0m\u001b[0;34m\u001b[0m\u001b[0m\n\u001b[0;32m-> 3194\u001b[0;31m         \u001b[0mvalue\u001b[0m \u001b[0;34m=\u001b[0m \u001b[0mself\u001b[0m\u001b[0;34m.\u001b[0m\u001b[0m_sanitize_column\u001b[0m\u001b[0;34m(\u001b[0m\u001b[0mkey\u001b[0m\u001b[0;34m,\u001b[0m \u001b[0mvalue\u001b[0m\u001b[0;34m)\u001b[0m\u001b[0;34m\u001b[0m\u001b[0m\n\u001b[0m\u001b[1;32m   3195\u001b[0m         \u001b[0mNDFrame\u001b[0m\u001b[0;34m.\u001b[0m\u001b[0m_set_item\u001b[0m\u001b[0;34m(\u001b[0m\u001b[0mself\u001b[0m\u001b[0;34m,\u001b[0m \u001b[0mkey\u001b[0m\u001b[0;34m,\u001b[0m \u001b[0mvalue\u001b[0m\u001b[0;34m)\u001b[0m\u001b[0;34m\u001b[0m\u001b[0m\n\u001b[1;32m   3196\u001b[0m \u001b[0;34m\u001b[0m\u001b[0m\n",
      "\u001b[0;32m~/miniconda3/lib/python3.5/site-packages/pandas/core/frame.py\u001b[0m in \u001b[0;36m_sanitize_column\u001b[0;34m(self, key, value, broadcast)\u001b[0m\n\u001b[1;32m   3389\u001b[0m \u001b[0;34m\u001b[0m\u001b[0m\n\u001b[1;32m   3390\u001b[0m             \u001b[0;31m# turn me into an ndarray\u001b[0m\u001b[0;34m\u001b[0m\u001b[0;34m\u001b[0m\u001b[0m\n\u001b[0;32m-> 3391\u001b[0;31m             \u001b[0mvalue\u001b[0m \u001b[0;34m=\u001b[0m \u001b[0m_sanitize_index\u001b[0m\u001b[0;34m(\u001b[0m\u001b[0mvalue\u001b[0m\u001b[0;34m,\u001b[0m \u001b[0mself\u001b[0m\u001b[0;34m.\u001b[0m\u001b[0mindex\u001b[0m\u001b[0;34m,\u001b[0m \u001b[0mcopy\u001b[0m\u001b[0;34m=\u001b[0m\u001b[0;32mFalse\u001b[0m\u001b[0;34m)\u001b[0m\u001b[0;34m\u001b[0m\u001b[0m\n\u001b[0m\u001b[1;32m   3392\u001b[0m             \u001b[0;32mif\u001b[0m \u001b[0;32mnot\u001b[0m \u001b[0misinstance\u001b[0m\u001b[0;34m(\u001b[0m\u001b[0mvalue\u001b[0m\u001b[0;34m,\u001b[0m \u001b[0;34m(\u001b[0m\u001b[0mnp\u001b[0m\u001b[0;34m.\u001b[0m\u001b[0mndarray\u001b[0m\u001b[0;34m,\u001b[0m \u001b[0mIndex\u001b[0m\u001b[0;34m)\u001b[0m\u001b[0;34m)\u001b[0m\u001b[0;34m:\u001b[0m\u001b[0;34m\u001b[0m\u001b[0m\n\u001b[1;32m   3393\u001b[0m                 \u001b[0;32mif\u001b[0m \u001b[0misinstance\u001b[0m\u001b[0;34m(\u001b[0m\u001b[0mvalue\u001b[0m\u001b[0;34m,\u001b[0m \u001b[0mlist\u001b[0m\u001b[0;34m)\u001b[0m \u001b[0;32mand\u001b[0m \u001b[0mlen\u001b[0m\u001b[0;34m(\u001b[0m\u001b[0mvalue\u001b[0m\u001b[0;34m)\u001b[0m \u001b[0;34m>\u001b[0m \u001b[0;36m0\u001b[0m\u001b[0;34m:\u001b[0m\u001b[0;34m\u001b[0m\u001b[0m\n",
      "\u001b[0;32m~/miniconda3/lib/python3.5/site-packages/pandas/core/series.py\u001b[0m in \u001b[0;36m_sanitize_index\u001b[0;34m(data, index, copy)\u001b[0m\n\u001b[1;32m   3999\u001b[0m \u001b[0;34m\u001b[0m\u001b[0m\n\u001b[1;32m   4000\u001b[0m     \u001b[0;32mif\u001b[0m \u001b[0mlen\u001b[0m\u001b[0;34m(\u001b[0m\u001b[0mdata\u001b[0m\u001b[0;34m)\u001b[0m \u001b[0;34m!=\u001b[0m \u001b[0mlen\u001b[0m\u001b[0;34m(\u001b[0m\u001b[0mindex\u001b[0m\u001b[0;34m)\u001b[0m\u001b[0;34m:\u001b[0m\u001b[0;34m\u001b[0m\u001b[0m\n\u001b[0;32m-> 4001\u001b[0;31m         \u001b[0;32mraise\u001b[0m \u001b[0mValueError\u001b[0m\u001b[0;34m(\u001b[0m\u001b[0;34m'Length of values does not match length of '\u001b[0m \u001b[0;34m'index'\u001b[0m\u001b[0;34m)\u001b[0m\u001b[0;34m\u001b[0m\u001b[0m\n\u001b[0m\u001b[1;32m   4002\u001b[0m \u001b[0;34m\u001b[0m\u001b[0m\n\u001b[1;32m   4003\u001b[0m     \u001b[0;32mif\u001b[0m \u001b[0misinstance\u001b[0m\u001b[0;34m(\u001b[0m\u001b[0mdata\u001b[0m\u001b[0;34m,\u001b[0m \u001b[0mABCIndexClass\u001b[0m\u001b[0;34m)\u001b[0m \u001b[0;32mand\u001b[0m \u001b[0;32mnot\u001b[0m \u001b[0mcopy\u001b[0m\u001b[0;34m:\u001b[0m\u001b[0;34m\u001b[0m\u001b[0m\n",
      "\u001b[0;31mValueError\u001b[0m: Length of values does not match length of index"
     ]
    }
   ],
   "source": [
    "wifi_data = pd.concat([wifi_data1,wifi_data2])\n",
    "wifi_data = wifi_data.reset_index(drop=True)\n",
    "x_pos = [points_map.loc[loc_id+1].X for loc_id in wifi_data[\"placeID\"]]\n",
    "y_pos = [points_map.loc[loc_id+1].Y for loc_id in wifi_data[\"placeID\"]]\n",
    "wifi_data[\"y0\"] = x_pos\n",
    "wifi_data[\"y1\"] = y_pos\n",
    "wifi_data.to_csv(path_or_buf=\"../data/wifi_data.csv\")\n",
    "\n",
    "sens_phone1[\"placeID\"] = add_placeId(sens_phone1,timestamp_id1)\n",
    "x_pos = [points_map.loc[0 if loc_id==-1 else loc_id+1].X for loc_id in sens_phone1[\"placeID\"]]\n",
    "y_pos = [points_map.loc[0 if loc_id==-1 else loc_id+1].Y for loc_id in sens_phone1[\"placeID\"]]\n",
    "sens_phone1[\"y0\"] = x_pos\n",
    "sens_phone1[\"y1\"] = y_pos\n",
    "\n",
    "sens_phone2[\"placeID\"] = add_placeId(sens_phone2,timestamp_id2)\n",
    "x_pos = [points_map.loc[0 if loc_id==-1 else loc_id+1].X for loc_id in sens_phone2[\"placeID\"]]\n",
    "y_pos = [points_map.loc[0 if loc_id==-1 else loc_id+1].Y for loc_id in sens_phone2[\"placeID\"]]\n",
    "sens_phone2[\"y0\"] = x_pos\n",
    "sens_phone2[\"y1\"] = y_pos\n",
    "\n",
    "sens_phone = pd.concat([sens_phone1,sens_phone2])\n",
    "sens_phone = sens_phone.reset_index(drop=True)\n",
    "sens_phone.to_csv(path_or_buf=\"../data/sens_phone_data.csv\")\n",
    "\n",
    "sens_watch1[\"placeID\"] = add_placeId(sens_watch1,timestamp_id1)\n",
    "x_pos = [points_map.loc[0 if loc_id==-1 else loc_id+1].X for loc_id in sens_watch1[\"placeID\"]]\n",
    "y_pos = [points_map.loc[0 if loc_id==-1 else loc_id+1].Y for loc_id in sens_watch1[\"placeID\"]]\n",
    "sens_watch1[\"y0\"] = x_pos\n",
    "sens_watch1[\"y1\"] = y_pos\n",
    "\n",
    "sens_watch2[\"placeID\"] = add_placeId(sens_watch2,timestamp_id1)\n",
    "x_pos = [points_map.loc[0 if loc_id==-1 else loc_id+1].X for loc_id in sens_watch2[\"placeID\"]]\n",
    "y_pos = [points_map.loc[0 if loc_id==-1 else loc_id+1].Y for loc_id in sens_watch2[\"placeID\"]]\n",
    "sens_watch2[\"y0\"] = x_pos\n",
    "sens_watch2[\"y1\"] = y_pos\n",
    "\n",
    "sens_watch = pd.concat([sens_watch1,sens_watch2])\n",
    "sens_watch = sens_watch.reset_index(drop=True)\n",
    "sens_watch.to_csv(path_or_buf=\"../data/sensor_watch_data.csv\")"
   ]
  },
  {
   "cell_type": "code",
   "execution_count": null,
   "metadata": {},
   "outputs": [],
   "source": []
  }
 ],
 "metadata": {
  "kernelspec": {
   "display_name": "Python 3",
   "language": "python",
   "name": "python3"
  },
  "language_info": {
   "codemirror_mode": {
    "name": "ipython",
    "version": 3
   },
   "file_extension": ".py",
   "mimetype": "text/x-python",
   "name": "python",
   "nbconvert_exporter": "python",
   "pygments_lexer": "ipython3",
   "version": "3.5.5"
  }
 },
 "nbformat": 4,
 "nbformat_minor": 2
}
