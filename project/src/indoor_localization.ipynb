{
 "cells": [
  {
   "cell_type": "markdown",
   "metadata": {},
   "source": [
    "# Mrinmoy Sarkar\n",
    "# Date: 10/25/2018"
   ]
  },
  {
   "cell_type": "code",
   "execution_count": 63,
   "metadata": {},
   "outputs": [],
   "source": [
    "import pandas as pd\n",
    "import numpy as np\n",
    "import matplotlib.pyplot as plt\n",
    "from sklearn.model_selection import train_test_split"
   ]
  },
  {
   "cell_type": "code",
   "execution_count": 64,
   "metadata": {},
   "outputs": [],
   "source": [
    "wifi_data = pd.read_csv(\"../data/wifi_data.csv\")"
   ]
  },
  {
   "cell_type": "code",
   "execution_count": 65,
   "metadata": {},
   "outputs": [
    {
     "name": "stdout",
     "output_type": "stream",
     "text": [
      "   Unnamed: 0  placeID   x0   x1   x2   x3   x4   x5   x6   x7 ...   x119  \\\n",
      "0           0        0 -100 -100 -100 -100  -82  -82 -100 -100 ...    -71   \n",
      "1           1        1 -100 -100 -100 -100 -100 -100 -100 -100 ...   -100   \n",
      "2           2        2 -100 -100 -100 -100  -90 -100 -100 -100 ...    -69   \n",
      "3           3        3 -100 -100 -100 -100  -88  -87 -100 -100 ...    -75   \n",
      "4           4        4 -100 -100 -100 -100  -80  -82 -100 -100 ...    -71   \n",
      "\n",
      "   x120  x121  x122  x123  x124  x125  x126   y0   y1  \n",
      "0   -60  -100   -78  -100  -100   -86   -86  0.6  0.6  \n",
      "1  -100  -100  -100  -100  -100  -100  -100  1.2  0.6  \n",
      "2   -66  -100  -100  -100  -100   -86   -86  1.8  0.6  \n",
      "3   -69  -100   -81  -100  -100   -86   -86  0.6  1.2  \n",
      "4   -65   -63   -83  -100  -100  -100  -100  1.8  1.2  \n",
      "\n",
      "[5 rows x 131 columns]\n"
     ]
    }
   ],
   "source": [
    "print(wifi_data.head())"
   ]
  },
  {
   "cell_type": "code",
   "execution_count": null,
   "metadata": {},
   "outputs": [],
   "source": []
  }
 ],
 "metadata": {
  "kernelspec": {
   "display_name": "Python 3",
   "language": "python",
   "name": "python3"
  },
  "language_info": {
   "codemirror_mode": {
    "name": "ipython",
    "version": 3
   },
   "file_extension": ".py",
   "mimetype": "text/x-python",
   "name": "python",
   "nbconvert_exporter": "python",
   "pygments_lexer": "ipython3",
   "version": "3.5.5"
  }
 },
 "nbformat": 4,
 "nbformat_minor": 2
}
