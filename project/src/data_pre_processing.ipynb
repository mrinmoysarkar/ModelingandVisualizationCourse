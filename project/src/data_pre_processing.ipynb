{
 "cells": [
  {
   "cell_type": "markdown",
   "metadata": {},
   "source": [
    "# Mrinmoy Sarkar\n",
    "# Date: 10/25/2018"
   ]
  },
  {
   "cell_type": "code",
   "execution_count": 5,
   "metadata": {},
   "outputs": [],
   "source": [
    "import pandas as pd\n",
    "import numpy as np\n",
    "import matplotlib.pyplot as plt\n",
    "from sklearn.model_selection import train_test_split"
   ]
  },
  {
   "cell_type": "code",
   "execution_count": 6,
   "metadata": {},
   "outputs": [],
   "source": [
    "def add_placeId(sens,timestamp_ID):\n",
    "    placeid = []\n",
    "    for i in range(sens.shape[0]):\n",
    "        time_id = sens[\"timestamp\"][i]\n",
    "        flag = True\n",
    "        for j in range(timestamp_ID.shape[0]):\n",
    "            if time_id>=timestamp_ID.loc[j].timestamp1 and time_id<=timestamp_ID.loc[j].timestamp2:\n",
    "                placeid.append(timestamp_ID.loc[j].placeID)\n",
    "                flag = False\n",
    "                break\n",
    "        if flag:\n",
    "            placeid.append(-1)\n",
    "    return placeid"
   ]
  },
  {
   "cell_type": "code",
   "execution_count": 7,
   "metadata": {},
   "outputs": [],
   "source": [
    "points_map = pd.read_excel(\"../data/PointsMapping.xlsx\",index_col=\"placeID\")\n",
    "col_names = [\"placeID\"]+[\"x\"+str(i) for i in range(127)]\n",
    "wifi_data1 = pd.read_csv(\"../data/measure1_smartphone_wifi.csv\",names=col_names)\n",
    "sens_phone1 = pd.read_csv(\"../data/measure1_smartphone_sens.csv\")\n",
    "sens_watch1 = pd.read_csv(\"../data/measure1_smartwatch_sens.csv\")\n",
    "timestamp_id1 = pd.read_csv(\"../data/measure1_timestamp_id.csv\")\n",
    "\n",
    "wifi_data2 = pd.read_csv(\"../data/measure2_smartphone_wifi.csv\",names=col_names)\n",
    "sens_phone2 = pd.read_csv(\"../data/measure2_smartphone_sens.csv\")\n",
    "sens_watch2 = pd.read_csv(\"../data/measure2_smartwatch_sens.csv\")\n",
    "timestamp_id2 = pd.read_csv(\"../data/measure2_timestamp_id.csv\")"
   ]
  },
  {
   "cell_type": "code",
   "execution_count": 8,
   "metadata": {},
   "outputs": [],
   "source": [
    "wifi_data = pd.concat([wifi_data1,wifi_data2])\n",
    "wifi_data = wifi_data.reset_index(drop=True)\n",
    "x_pos = [points_map.loc[loc_id+1].X for loc_id in wifi_data[\"placeID\"]]\n",
    "y_pos = [points_map.loc[loc_id+1].Y for loc_id in wifi_data[\"placeID\"]]\n",
    "wifi_data[\"y0\"] = x_pos\n",
    "wifi_data[\"y1\"] = y_pos\n",
    "wifi_data.to_csv(path_or_buf=\"../data/wifi_data.csv\")\n",
    "\n",
    "sens_phone1[\"placeID\"] = add_placeId(sens_phone1,timestamp_id1)\n",
    "x_pos = [points_map.loc[1 if loc_id==-1 else loc_id+1].X for loc_id in sens_phone1[\"placeID\"]]\n",
    "y_pos = [points_map.loc[1 if loc_id==-1 else loc_id+1].Y for loc_id in sens_phone1[\"placeID\"]]\n",
    "sens_phone1[\"y0\"] = x_pos\n",
    "sens_phone1[\"y1\"] = y_pos\n",
    "\n",
    "sens_phone2[\"placeID\"] = add_placeId(sens_phone2,timestamp_id2)\n",
    "x_pos = [points_map.loc[1 if loc_id==-1 else loc_id+1].X for loc_id in sens_phone2[\"placeID\"]]\n",
    "y_pos = [points_map.loc[1 if loc_id==-1 else loc_id+1].Y for loc_id in sens_phone2[\"placeID\"]]\n",
    "sens_phone2[\"y0\"] = x_pos\n",
    "sens_phone2[\"y1\"] = y_pos\n",
    "\n",
    "sens_phone = pd.concat([sens_phone1,sens_phone2])\n",
    "sens_phone = sens_phone.reset_index(drop=True)\n",
    "sens_phone.to_csv(path_or_buf=\"../data/sens_phone_data.csv\")\n",
    "\n",
    "sens_watch1[\"placeID\"] = add_placeId(sens_watch1,timestamp_id1)\n",
    "x_pos = [points_map.loc[1 if loc_id==-1 else loc_id+1].X for loc_id in sens_watch1[\"placeID\"]]\n",
    "y_pos = [points_map.loc[1 if loc_id==-1 else loc_id+1].Y for loc_id in sens_watch1[\"placeID\"]]\n",
    "sens_watch1[\"y0\"] = x_pos\n",
    "sens_watch1[\"y1\"] = y_pos\n",
    "\n",
    "sens_watch2[\"placeID\"] = add_placeId(sens_watch2,timestamp_id1)\n",
    "x_pos = [points_map.loc[1 if loc_id==-1 else loc_id+1].X for loc_id in sens_watch2[\"placeID\"]]\n",
    "y_pos = [points_map.loc[1 if loc_id==-1 else loc_id+1].Y for loc_id in sens_watch2[\"placeID\"]]\n",
    "sens_watch2[\"y0\"] = x_pos\n",
    "sens_watch2[\"y1\"] = y_pos\n",
    "\n",
    "sens_watch = pd.concat([sens_watch1,sens_watch2])\n",
    "sens_watch = sens_watch.reset_index(drop=True)\n",
    "sens_watch.to_csv(path_or_buf=\"../data/sensor_watch_data.csv\")"
   ]
  },
  {
   "cell_type": "code",
   "execution_count": null,
   "metadata": {},
   "outputs": [],
   "source": []
  }
 ],
 "metadata": {
  "kernelspec": {
   "display_name": "Python 3",
   "language": "python",
   "name": "python3"
  },
  "language_info": {
   "codemirror_mode": {
    "name": "ipython",
    "version": 3
   },
   "file_extension": ".py",
   "mimetype": "text/x-python",
   "name": "python",
   "nbconvert_exporter": "python",
   "pygments_lexer": "ipython3",
   "version": "3.5.5"
  }
 },
 "nbformat": 4,
 "nbformat_minor": 2
}
